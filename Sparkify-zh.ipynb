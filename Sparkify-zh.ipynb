{
 "cells": [
  {
   "cell_type": "markdown",
   "metadata": {},
   "source": [
    "# Sparkify 项目 Workspace\n",
    "这个 Workspace 包括一个迷你的子数据集（128MB），是完整数据集（12GB）的一个子集。在将你的项目部署到云上之前，你可以自由使用 Workspace 来创建你的项目或用Spark来探索这个较小数据集。设置 Spark 集群的指南可以在选修 Spark 课程的内容里找到。\n",
    "\n",
    "你可以依照下面的步骤进行项目的数据分析和模型搭建部分。"
   ]
  },
  {
   "cell_type": "code",
   "execution_count": 4,
   "metadata": {},
   "outputs": [],
   "source": [
    "# import libraries\n",
    "import datetime\n",
    "import pyspark\n",
    "from pyspark import SparkConf\n",
    "from pyspark.sql import SparkSession\n",
    "from pyspark.sql.functions import udf,min,max,avg\n",
    "\n",
    "\n",
    "import pandas as pd\n",
    "import matplotlib.pyplot as plt\n",
    "import seaborn as sns\n",
    "\n",
    "from pyspark.ml import Pipeline\n",
    "from pyspark.ml.classification import LogisticRegression, RandomForestClassifier, GBTClassifier, DecisionTreeClassifier, NaiveBayes\n",
    "from pyspark.ml.evaluation import MulticlassClassificationEvaluator\n",
    "from pyspark.ml.feature import CountVectorizer, IDF, Normalizer, PCA, RegexTokenizer, StandardScaler, StringIndexer, VectorAssembler\n",
    "from pyspark.ml.regression import LinearRegression\n",
    "from pyspark.ml.tuning import CrossValidator, ParamGridBuilder\n",
    "\n"
   ]
  },
  {
   "cell_type": "code",
   "execution_count": 5,
   "metadata": {},
   "outputs": [],
   "source": [
    "# create a Spark session\n",
    "\n",
    "spark = SparkSession \\\n",
    "    .builder \\\n",
    "    .appName(\"Sparkify\") \\\n",
    "    .getOrCreate()\n"
   ]
  },
  {
   "cell_type": "code",
   "execution_count": 6,
   "metadata": {},
   "outputs": [],
   "source": [
    "#load the data\n",
    "path = \"mini_sparkify_event_data.json\"\n",
    "data = spark.read.json(path)"
   ]
  },
  {
   "cell_type": "markdown",
   "metadata": {},
   "source": [
    "# 加载和清洗数据\n",
    "在这个 Workspace 中，小数据集的名称是 `mini_sparkify_event_data.json`.加载和清洗数据集，检查是否有无效或缺失数据——例如，没有userid或sessionid的数据。 "
   ]
  },
  {
   "cell_type": "code",
   "execution_count": 7,
   "metadata": {},
   "outputs": [
    {
     "data": {
      "text/plain": [
       "[Row(artist='Martha Tilston', auth='Logged In', firstName='Colin', gender='M', itemInSession=50, lastName='Freeman', length=277.89016, level='paid', location='Bakersfield, CA', method='PUT', page='NextSong', registration=1538173362000, sessionId=29, song='Rockpools', status=200, ts=1538352117000, userAgent='Mozilla/5.0 (Windows NT 6.1; WOW64; rv:31.0) Gecko/20100101 Firefox/31.0', userId='30'),\n",
       " Row(artist='Five Iron Frenzy', auth='Logged In', firstName='Micah', gender='M', itemInSession=79, lastName='Long', length=236.09424, level='free', location='Boston-Cambridge-Newton, MA-NH', method='PUT', page='NextSong', registration=1538331630000, sessionId=8, song='Canada', status=200, ts=1538352180000, userAgent='\"Mozilla/5.0 (Windows NT 6.1; WOW64) AppleWebKit/537.36 (KHTML, like Gecko) Chrome/37.0.2062.103 Safari/537.36\"', userId='9'),\n",
       " Row(artist='Adam Lambert', auth='Logged In', firstName='Colin', gender='M', itemInSession=51, lastName='Freeman', length=282.8273, level='paid', location='Bakersfield, CA', method='PUT', page='NextSong', registration=1538173362000, sessionId=29, song='Time For Miracles', status=200, ts=1538352394000, userAgent='Mozilla/5.0 (Windows NT 6.1; WOW64; rv:31.0) Gecko/20100101 Firefox/31.0', userId='30'),\n",
       " Row(artist='Enigma', auth='Logged In', firstName='Micah', gender='M', itemInSession=80, lastName='Long', length=262.71302, level='free', location='Boston-Cambridge-Newton, MA-NH', method='PUT', page='NextSong', registration=1538331630000, sessionId=8, song='Knocking On Forbidden Doors', status=200, ts=1538352416000, userAgent='\"Mozilla/5.0 (Windows NT 6.1; WOW64) AppleWebKit/537.36 (KHTML, like Gecko) Chrome/37.0.2062.103 Safari/537.36\"', userId='9'),\n",
       " Row(artist='Daft Punk', auth='Logged In', firstName='Colin', gender='M', itemInSession=52, lastName='Freeman', length=223.60771, level='paid', location='Bakersfield, CA', method='PUT', page='NextSong', registration=1538173362000, sessionId=29, song='Harder Better Faster Stronger', status=200, ts=1538352676000, userAgent='Mozilla/5.0 (Windows NT 6.1; WOW64; rv:31.0) Gecko/20100101 Firefox/31.0', userId='30')]"
      ]
     },
     "execution_count": 7,
     "metadata": {},
     "output_type": "execute_result"
    }
   ],
   "source": [
    "data.take(5)"
   ]
  },
  {
   "cell_type": "code",
   "execution_count": 8,
   "metadata": {},
   "outputs": [
    {
     "data": {
      "text/plain": [
       "286500"
      ]
     },
     "execution_count": 8,
     "metadata": {},
     "output_type": "execute_result"
    }
   ],
   "source": [
    "#check the counts\n",
    "data.count()"
   ]
  },
  {
   "cell_type": "code",
   "execution_count": 9,
   "metadata": {},
   "outputs": [
    {
     "data": {
      "text/plain": [
       "0"
      ]
     },
     "execution_count": 9,
     "metadata": {},
     "output_type": "execute_result"
    }
   ],
   "source": [
    "#check the number that session ID is not empty \n",
    "data.filter(data.sessionId == \"\" ).count()"
   ]
  },
  {
   "cell_type": "code",
   "execution_count": 10,
   "metadata": {},
   "outputs": [
    {
     "data": {
      "text/plain": [
       "8346"
      ]
     },
     "execution_count": 10,
     "metadata": {},
     "output_type": "execute_result"
    }
   ],
   "source": [
    "#check the number that userID is not empty \n",
    "data.filter(data.userId == \"\" ).count()"
   ]
  },
  {
   "cell_type": "code",
   "execution_count": 11,
   "metadata": {},
   "outputs": [
    {
     "data": {
      "text/plain": [
       "286500"
      ]
     },
     "execution_count": 11,
     "metadata": {},
     "output_type": "execute_result"
    }
   ],
   "source": [
    "#Delete the line that there is no userID\n",
    "data.dropna(how = \"any\",subset=[\"sessionId\",\"userId\"] )\n",
    "data.count()"
   ]
  },
  {
   "cell_type": "markdown",
   "metadata": {},
   "source": [
    "# 探索性数据分析\n",
    "当你使用完整数据集时，通过加载小数据集，在 Spark 中完成基础操作来实现探索性数据分析。在这个 Workspace 中，我们已经提供给你一个你可以探索的小数据集。\n",
    "\n",
    "### 定义客户流失\n",
    "\n",
    "在你完成初步分析之后，创建一列 `Churn` 作为模型的标签。我建议你使用 `Cancellation Confirmation` 事件来定义客户流失，该事件在付费或免费客户身上都有发生。作为一个奖励任务，你也可以深入了解 `Downgrade` 事件。\n",
    "\n",
    "### 探索数据\n",
    "你定义好客户流失后，就可以执行一些探索性数据分析，观察留存用户和流失用户的行为。你可以首先把这两类用户的数据聚合到一起，观察固定时间内某个特定动作出现的次数或者播放音乐的数量。"
   ]
  },
  {
   "cell_type": "code",
   "execution_count": 12,
   "metadata": {},
   "outputs": [
    {
     "name": "stdout",
     "output_type": "stream",
     "text": [
      "root\n",
      " |-- artist: string (nullable = true)\n",
      " |-- auth: string (nullable = true)\n",
      " |-- firstName: string (nullable = true)\n",
      " |-- gender: string (nullable = true)\n",
      " |-- itemInSession: long (nullable = true)\n",
      " |-- lastName: string (nullable = true)\n",
      " |-- length: double (nullable = true)\n",
      " |-- level: string (nullable = true)\n",
      " |-- location: string (nullable = true)\n",
      " |-- method: string (nullable = true)\n",
      " |-- page: string (nullable = true)\n",
      " |-- registration: long (nullable = true)\n",
      " |-- sessionId: long (nullable = true)\n",
      " |-- song: string (nullable = true)\n",
      " |-- status: long (nullable = true)\n",
      " |-- ts: long (nullable = true)\n",
      " |-- userAgent: string (nullable = true)\n",
      " |-- userId: string (nullable = true)\n",
      "\n"
     ]
    }
   ],
   "source": [
    "#check the column\n",
    "data.printSchema()"
   ]
  },
  {
   "cell_type": "code",
   "execution_count": 13,
   "metadata": {},
   "outputs": [
    {
     "name": "stdout",
     "output_type": "stream",
     "text": [
      "+--------------------+\n",
      "|                page|\n",
      "+--------------------+\n",
      "|              Cancel|\n",
      "|    Submit Downgrade|\n",
      "|         Thumbs Down|\n",
      "|                Home|\n",
      "|           Downgrade|\n",
      "|         Roll Advert|\n",
      "|              Logout|\n",
      "|       Save Settings|\n",
      "|Cancellation Conf...|\n",
      "|               About|\n",
      "| Submit Registration|\n",
      "|            Settings|\n",
      "|               Login|\n",
      "|            Register|\n",
      "|     Add to Playlist|\n",
      "|          Add Friend|\n",
      "|            NextSong|\n",
      "|           Thumbs Up|\n",
      "|                Help|\n",
      "|             Upgrade|\n",
      "+--------------------+\n",
      "only showing top 20 rows\n",
      "\n"
     ]
    }
   ],
   "source": [
    "#check how many values inside page column\n",
    "data.select(\"page\").drop_duplicates().show()"
   ]
  },
  {
   "cell_type": "code",
   "execution_count": 14,
   "metadata": {},
   "outputs": [
    {
     "data": {
      "text/plain": [
       "52"
      ]
     },
     "execution_count": 14,
     "metadata": {},
     "output_type": "execute_result"
    }
   ],
   "source": [
    "#check how many users did the confirmed cancellation\n",
    "data.filter(data.page==\"Cancellation Confirmation\").select(\"userId\").dropDuplicates().count()"
   ]
  },
  {
   "cell_type": "code",
   "execution_count": 15,
   "metadata": {},
   "outputs": [],
   "source": [
    "# transform the time format and add a time column\n",
    "get_time = udf(lambda x: datetime.datetime.fromtimestamp(x / 1000.0).strftime(\"%Y-%m-%d %H:%M:%S\"))\n",
    "data = data.withColumn(\"time\", get_time(data.ts))"
   ]
  },
  {
   "cell_type": "code",
   "execution_count": 16,
   "metadata": {},
   "outputs": [
    {
     "name": "stdout",
     "output_type": "stream",
     "text": [
      "+--------------------+---------+---------+------+-------------+--------+---------+-----+--------------------+------+---------------+-------------+---------+--------------------+------+-------------+--------------------+------+-------------------+\n",
      "|              artist|     auth|firstName|gender|itemInSession|lastName|   length|level|            location|method|           page| registration|sessionId|                song|status|           ts|           userAgent|userId|               time|\n",
      "+--------------------+---------+---------+------+-------------+--------+---------+-----+--------------------+------+---------------+-------------+---------+--------------------+------+-------------+--------------------+------+-------------------+\n",
      "|      Martha Tilston|Logged In|    Colin|     M|           50| Freeman|277.89016| paid|     Bakersfield, CA|   PUT|       NextSong|1538173362000|       29|           Rockpools|   200|1538352117000|Mozilla/5.0 (Wind...|    30|2018-10-01 08:01:57|\n",
      "|    Five Iron Frenzy|Logged In|    Micah|     M|           79|    Long|236.09424| free|Boston-Cambridge-...|   PUT|       NextSong|1538331630000|        8|              Canada|   200|1538352180000|\"Mozilla/5.0 (Win...|     9|2018-10-01 08:03:00|\n",
      "|        Adam Lambert|Logged In|    Colin|     M|           51| Freeman| 282.8273| paid|     Bakersfield, CA|   PUT|       NextSong|1538173362000|       29|   Time For Miracles|   200|1538352394000|Mozilla/5.0 (Wind...|    30|2018-10-01 08:06:34|\n",
      "|              Enigma|Logged In|    Micah|     M|           80|    Long|262.71302| free|Boston-Cambridge-...|   PUT|       NextSong|1538331630000|        8|Knocking On Forbi...|   200|1538352416000|\"Mozilla/5.0 (Win...|     9|2018-10-01 08:06:56|\n",
      "|           Daft Punk|Logged In|    Colin|     M|           52| Freeman|223.60771| paid|     Bakersfield, CA|   PUT|       NextSong|1538173362000|       29|Harder Better Fas...|   200|1538352676000|Mozilla/5.0 (Wind...|    30|2018-10-01 08:11:16|\n",
      "|The All-American ...|Logged In|    Micah|     M|           81|    Long|208.29995| free|Boston-Cambridge-...|   PUT|       NextSong|1538331630000|        8|      Don't Leave Me|   200|1538352678000|\"Mozilla/5.0 (Win...|     9|2018-10-01 08:11:18|\n",
      "|The Velvet Underg...|Logged In|    Micah|     M|           82|    Long|260.46649| free|Boston-Cambridge-...|   PUT|       NextSong|1538331630000|        8|         Run Run Run|   200|1538352886000|\"Mozilla/5.0 (Win...|     9|2018-10-01 08:14:46|\n",
      "|        Starflyer 59|Logged In|    Colin|     M|           53| Freeman|185.44281| paid|     Bakersfield, CA|   PUT|       NextSong|1538173362000|       29|Passengers (Old A...|   200|1538352899000|Mozilla/5.0 (Wind...|    30|2018-10-01 08:14:59|\n",
      "|                null|Logged In|    Colin|     M|           54| Freeman|     null| paid|     Bakersfield, CA|   PUT|Add to Playlist|1538173362000|       29|                null|   200|1538352905000|Mozilla/5.0 (Wind...|    30|2018-10-01 08:15:05|\n",
      "|            Frumpies|Logged In|    Colin|     M|           55| Freeman|134.47791| paid|     Bakersfield, CA|   PUT|       NextSong|1538173362000|       29|          Fuck Kitty|   200|1538353084000|Mozilla/5.0 (Wind...|    30|2018-10-01 08:18:04|\n",
      "|        Britt Nicole|Logged In|    Micah|     M|           83|    Long| 229.8771| free|Boston-Cambridge-...|   PUT|       NextSong|1538331630000|        8|   Walk On The Water|   200|1538353146000|\"Mozilla/5.0 (Win...|     9|2018-10-01 08:19:06|\n",
      "|                null|Logged In|    Micah|     M|           84|    Long|     null| free|Boston-Cambridge-...|   GET|    Roll Advert|1538331630000|        8|                null|   200|1538353150000|\"Mozilla/5.0 (Win...|     9|2018-10-01 08:19:10|\n",
      "|Edward Sharpe & T...|Logged In|    Colin|     M|           56| Freeman|223.58159| paid|     Bakersfield, CA|   PUT|       NextSong|1538173362000|       29|                Jade|   200|1538353218000|Mozilla/5.0 (Wind...|    30|2018-10-01 08:20:18|\n",
      "|               Tesla|Logged In|    Micah|     M|           85|    Long|201.06404| free|Boston-Cambridge-...|   PUT|       NextSong|1538331630000|        8|      Gettin' Better|   200|1538353375000|\"Mozilla/5.0 (Win...|     9|2018-10-01 08:22:55|\n",
      "|                null|Logged In|    Micah|     M|           86|    Long|     null| free|Boston-Cambridge-...|   PUT|      Thumbs Up|1538331630000|        8|                null|   307|1538353376000|\"Mozilla/5.0 (Win...|     9|2018-10-01 08:22:56|\n",
      "|         Stan Mosley|Logged In|    Colin|     M|           57| Freeman|246.69995| paid|     Bakersfield, CA|   PUT|       NextSong|1538173362000|       29|   So-Called Friends|   200|1538353441000|Mozilla/5.0 (Wind...|    30|2018-10-01 08:24:01|\n",
      "|Florence + The Ma...|Logged In|    Micah|     M|           87|    Long|168.64608| free|Boston-Cambridge-...|   PUT|       NextSong|1538331630000|        8| You've Got The Love|   200|1538353576000|\"Mozilla/5.0 (Win...|     9|2018-10-01 08:26:16|\n",
      "|   Tokyo Police Club|Logged In|  Ashlynn|     F|            0|Williams| 166.1122| free|     Tallahassee, FL|   PUT|       NextSong|1537365219000|      217|Citizens Of Tomorrow|   200|1538353668000|\"Mozilla/5.0 (Mac...|    74|2018-10-01 08:27:48|\n",
      "|             Orishas|Logged In|    Colin|     M|           58| Freeman|222.22322| paid|     Bakersfield, CA|   PUT|       NextSong|1538173362000|       29|           Represent|   200|1538353687000|Mozilla/5.0 (Wind...|    30|2018-10-01 08:28:07|\n",
      "|             Ratatat|Logged In|    Micah|     M|           88|    Long|229.77261| free|Boston-Cambridge-...|   PUT|       NextSong|1538331630000|        8|              Swisha|   200|1538353744000|\"Mozilla/5.0 (Win...|     9|2018-10-01 08:29:04|\n",
      "+--------------------+---------+---------+------+-------------+--------+---------+-----+--------------------+------+---------------+-------------+---------+--------------------+------+-------------+--------------------+------+-------------------+\n",
      "only showing top 20 rows\n",
      "\n"
     ]
    }
   ],
   "source": [
    "#check the time column\n",
    "data.show()"
   ]
  },
  {
   "cell_type": "code",
   "execution_count": 17,
   "metadata": {},
   "outputs": [],
   "source": [
    "#Create Churn column, ture means user did Cancellation Confirmation, otherwise it is false\n",
    "cc_users = data.filter(data.page==\"Cancellation Confirmation\").select(\"userId\").dropDuplicates()\n",
    "cc_users_list = [(row['userId']) for row in cc_users.collect()]\n",
    "data_withchurn = data.withColumn(\"churn\", data.userId.isin(cc_users_list))"
   ]
  },
  {
   "cell_type": "code",
   "execution_count": 18,
   "metadata": {},
   "outputs": [
    {
     "name": "stdout",
     "output_type": "stream",
     "text": [
      "+------+-----+\n",
      "|userId|churn|\n",
      "+------+-----+\n",
      "|   125| true|\n",
      "|   125| true|\n",
      "|   125| true|\n",
      "|   125| true|\n",
      "|   125| true|\n",
      "|   125| true|\n",
      "|   125| true|\n",
      "|   125| true|\n",
      "|   125| true|\n",
      "|   125| true|\n",
      "|   125| true|\n",
      "+------+-----+\n",
      "\n"
     ]
    }
   ],
   "source": [
    "#Check the value of churn column\n",
    "data_withchurn.select([\"userId\",\"churn\"]).where(data.userId == \"125\").show()"
   ]
  },
  {
   "cell_type": "code",
   "execution_count": 19,
   "metadata": {},
   "outputs": [
    {
     "data": {
      "image/png": "[encoded data removed]",
      "text/plain": [
       "<Figure size 432x288 with 1 Axes>"
      ]
     },
     "metadata": {},
     "output_type": "display_data"
    }
   ],
   "source": [
    "#analysis the churn by the level\n",
    "data_level = data_withchurn.filter(data_withchurn.churn == \"true\").select([\"level\",\"churn\"]).groupby(\"level\").count()\n",
    "data_level = data_level.toPandas()\n",
    "data_level.head()\n",
    "\n",
    "plt.pie(x = list(data_level[\"count\"]),labels=list(data_level[\"level\"]),autopct=\"%0.2f%%\")\n",
    "plt.legend()\n",
    "plt.show() "
   ]
  },
  {
   "cell_type": "code",
   "execution_count": 20,
   "metadata": {},
   "outputs": [
    {
     "data": {
      "text/plain": [
       "<matplotlib.axes._subplots.AxesSubplot at 0x1a38a6461c8>"
      ]
     },
     "execution_count": 20,
     "metadata": {},
     "output_type": "execute_result"
    },
    {
     "data": {
      "image/png": "[encoded data removed]",
      "text/plain": [
       "<Figure size 432x288 with 1 Axes>"
      ]
     },
     "metadata": {
      "needs_background": "light"
     },
     "output_type": "display_data"
    }
   ],
   "source": [
    "#analysis the churn by the gender \n",
    "data_gendor = data_withchurn.dropDuplicates([\"userId\", \"gender\"]).groupby([\"churn\", \"gender\"]).count().sort(\"churn\").toPandas()\n",
    "sns.barplot(x='churn', y='count', hue='gender', data=data_gendor)"
   ]
  },
  {
   "cell_type": "code",
   "execution_count": 21,
   "metadata": {},
   "outputs": [],
   "source": [
    "#analysis the churn by time and date, analysis the data and add 3 columns\n",
    "\n",
    "hour = udf(lambda x: datetime.datetime.fromtimestamp(x / 1000.0).hour)\n",
    "data_withchurn = data_withchurn.withColumn(\"hour\", hour(data_withchurn.ts))\n",
    "\n",
    "weekday = udf(lambda x: datetime.datetime.fromtimestamp(x / 1000.0).strftime(\"%w\"))\n",
    "data_withchurn = data_withchurn.withColumn(\"weekday\", weekday(data_withchurn.ts))\n",
    "\n",
    "day = udf(lambda x: datetime.datetime.fromtimestamp(x / 1000.0).day)\n",
    "data_withchurn = data_withchurn.withColumn(\"day\", day(data_withchurn.ts))"
   ]
  },
  {
   "cell_type": "code",
   "execution_count": 22,
   "metadata": {},
   "outputs": [
    {
     "name": "stdout",
     "output_type": "stream",
     "text": [
      "+------+----+-------+---+\n",
      "|userId|hour|weekday|day|\n",
      "+------+----+-------+---+\n",
      "|    30|   8|      1|  1|\n",
      "|     9|   8|      1|  1|\n",
      "|    30|   8|      1|  1|\n",
      "|     9|   8|      1|  1|\n",
      "|    30|   8|      1|  1|\n",
      "+------+----+-------+---+\n",
      "only showing top 5 rows\n",
      "\n"
     ]
    }
   ],
   "source": [
    "#check the transferred time column\n",
    "data_withchurn.select([\"userId\",\"hour\",\"weekday\",\"day\"]).show(5)"
   ]
  },
  {
   "cell_type": "code",
   "execution_count": 23,
   "metadata": {},
   "outputs": [],
   "source": [
    "def get_plot_date_page_churn(date,page,churn,color,label):\n",
    "    '''\n",
    "    Define a function to show the plt for date/page/churn\n",
    "    '''\n",
    "    data_pd = data_withchurn.filter(data_withchurn.page == page).groupby(\"churn\", date).count().orderBy(data_withchurn[date].cast(\"float\")).toPandas()\n",
    "    data_pd[data_pd.churn == churn].plot.bar(x = date, y = 'count', color= color, label= label)\n",
    "    plt.show()"
   ]
  },
  {
   "cell_type": "code",
   "execution_count": 24,
   "metadata": {},
   "outputs": [
    {
     "data": {
      "image/png": "[encoded data removed]",
      "text/plain": [
       "<Figure size 432x288 with 1 Axes>"
      ]
     },
     "metadata": {
      "needs_background": "light"
     },
     "output_type": "display_data"
    }
   ],
   "source": [
    "get_plot_date_page_churn(\"hour\",\"NextSong\",True,\"Green\",\"churn\")"
   ]
  },
  {
   "cell_type": "code",
   "execution_count": 25,
   "metadata": {},
   "outputs": [
    {
     "data": {
      "image/png": "[encoded data removed]",
      "text/plain": [
       "<Figure size 432x288 with 1 Axes>"
      ]
     },
     "metadata": {
      "needs_background": "light"
     },
     "output_type": "display_data"
    }
   ],
   "source": [
    "get_plot_date_page_churn(\"weekday\",\"Downgrade\",False,\"red\",\"not churn\")"
   ]
  },
  {
   "cell_type": "code",
   "execution_count": 26,
   "metadata": {},
   "outputs": [
    {
     "data": {
      "image/png": "[encoded data removed]",
      "text/plain": [
       "<Figure size 432x288 with 1 Axes>"
      ]
     },
     "metadata": {
      "needs_background": "light"
     },
     "output_type": "display_data"
    }
   ],
   "source": [
    "get_plot_date_page_churn(\"weekday\",\"Downgrade\",False,\"yellow\",\"not churn\")"
   ]
  },
  {
   "cell_type": "code",
   "execution_count": 27,
   "metadata": {},
   "outputs": [
    {
     "data": {
      "image/png": "[encoded data removed]",
      "text/plain": [
       "<Figure size 432x288 with 1 Axes>"
      ]
     },
     "metadata": {
      "needs_background": "light"
     },
     "output_type": "display_data"
    }
   ],
   "source": [
    "get_plot_date_page_churn(\"day\",\"Cancellation Confirmation\",True,\"green\",\"churn\")"
   ]
  },
  {
   "cell_type": "markdown",
   "metadata": {},
   "source": [
    "# 特征工程\n",
    "熟悉了数据之后，就可以构建你认为会对训练模型帮助最大的特征。要处理完整数据集，你可以按照下述步骤：\n",
    "- 写一个脚本来从小数据集中提取你需要的特征\n",
    "- 确保你的脚本可以拓展到大数据集上，使用之前教过的最佳实践原则\n",
    "- 在完整数据集上运行你的脚本，按运行情况调试代码\n",
    "\n",
    "如果是在教室的 workspace，你可以直接用里面提供的小数据集来提取特征。确保当你开始使用 Spark 集群的时候，把上述的成果迁移到大数据集上。"
   ]
  },
  {
   "cell_type": "code",
   "execution_count": 28,
   "metadata": {
    "code_folding": []
   },
   "outputs": [
    {
     "name": "stdout",
     "output_type": "stream",
     "text": [
      "+------+------------------+\n",
      "|userId|           regDays|\n",
      "+------+------------------+\n",
      "|100010| 55.64365740740741|\n",
      "|200002| 70.07462962962963|\n",
      "|   125| 71.31688657407408|\n",
      "|   124|131.55591435185184|\n",
      "|    51|19.455844907407407|\n",
      "|     7| 72.77818287037037|\n",
      "|    15|56.513576388888886|\n",
      "|    54|110.75168981481481|\n",
      "|   155|23.556018518518517|\n",
      "|100014| 85.08340277777778|\n",
      "+------+------------------+\n",
      "only showing top 10 rows\n",
      "\n"
     ]
    }
   ],
   "source": [
    "#features 1: get user regestion days\n",
    "user_max_ts = data_withchurn.groupby(\"userId\").max(\"ts\").sort(\"userId\")\n",
    "user_reg_ts = data_withchurn.select(\n",
    "    \"userId\", \"registration\").dropDuplicates().sort(\"userId\")\n",
    "user_reg_days = user_reg_ts.join(\n",
    "    user_max_ts, user_reg_ts.userId == user_max_ts.userId).select(\n",
    "        user_reg_ts[\"userId\"],\n",
    "        ((user_max_ts[\"max(ts)\"] - user_reg_ts[\"registration\"]) /\n",
    "         (1000 * 60 * 60 * 24)).alias(\"regDays\"))\n",
    "\n",
    "user_reg_days.show(10)"
   ]
  },
  {
   "cell_type": "code",
   "execution_count": 29,
   "metadata": {},
   "outputs": [
    {
     "name": "stdout",
     "output_type": "stream",
     "text": [
      "+-------------+-----+\n",
      "|user_level_id|level|\n",
      "+-------------+-----+\n",
      "|       200008|    1|\n",
      "|           96|    1|\n",
      "|       200002|    1|\n",
      "|           49|    1|\n",
      "|           68|    0|\n",
      "|           47|    0|\n",
      "|       200025|    1|\n",
      "|       300006|    1|\n",
      "|       100007|    1|\n",
      "|           11|    1|\n",
      "+-------------+-----+\n",
      "only showing top 10 rows\n",
      "\n"
     ]
    }
   ],
   "source": [
    "#features 2 If user is a paid user or free user\n",
    "#get the user paid /free status with the maximum timestramp \n",
    "user_pf_status = data_withchurn.groupby(\"userId\", \"level\").agg(max(data_withchurn.ts).alias(\"lastTime\")).sort(\"userId\")\n",
    "#get the user's latest timestramp \n",
    "user_lastest_level_time = user_pf_status.groupby(\"userId\").agg(max(user_pf_status.lastTime).alias(\"lastest\"))\n",
    "#Join the 2 tables\n",
    "temp = user_pf_status.join(user_lastest_level_time,[user_pf_status.userId == user_lastest_level_time.userId, user_lastest_level_time.lastest == user_pf_status.lastTime]).select(user_pf_status.userId,user_pf_status.level)\n",
    "#transfer the data, free is 0, paid is 1\n",
    "user_level = temp.replace([\"free\", \"paid\"], [\"0\", \"1\"], \"level\")\n",
    "user_level = user_level.withColumnRenamed(\"userId\", \"user_level_id\")\n",
    "user_level.show(10)"
   ]
  },
  {
   "cell_type": "code",
   "execution_count": 30,
   "metadata": {},
   "outputs": [
    {
     "name": "stdout",
     "output_type": "stream",
     "text": [
      "+--------------+------+\n",
      "|user_gender_id|gender|\n",
      "+--------------+------+\n",
      "|            44|     1|\n",
      "|            46|     1|\n",
      "|            41|     1|\n",
      "|            72|     1|\n",
      "|        300023|     1|\n",
      "+--------------+------+\n",
      "only showing top 5 rows\n",
      "\n"
     ]
    }
   ],
   "source": [
    "#Features 3 User's gender \n",
    "user_gender = data_withchurn.select(\"userId\", \"gender\").dropDuplicates()\n",
    "user_gender = user_gender.replace([\"M\", \"F\"], [\"0\", \"1\"], \"gender\")\n",
    "user_gender = user_gender.select(\"userId\", \"gender\")\n",
    "user_gender = user_gender.withColumnRenamed(\"userId\", \"user_gender_id\")\n",
    "user_gender.show(5)\n"
   ]
  },
  {
   "cell_type": "code",
   "execution_count": 31,
   "metadata": {},
   "outputs": [
    {
     "name": "stdout",
     "output_type": "stream",
     "text": [
      "+---------------------+-----+\n",
      "|user_song_interact_id|count|\n",
      "+---------------------+-----+\n",
      "|               100010|  270|\n",
      "|               200002|  379|\n",
      "|                  125|    9|\n",
      "|                   51| 1855|\n",
      "|                  124| 3340|\n",
      "+---------------------+-----+\n",
      "only showing top 5 rows\n",
      "\n"
     ]
    }
   ],
   "source": [
    "#Features 4 How many songs user has been interacted\n",
    "\n",
    "user_song_interact = data_withchurn.select(\"userId\",\"song\").drop_duplicates().groupby(\"userId\").count()\n",
    "user_song_interact = user_song_interact.withColumnRenamed(\"userId\", \"user_song_interact_id\")\n",
    "user_song_interact.show(5)\n"
   ]
  },
  {
   "cell_type": "code",
   "execution_count": 32,
   "metadata": {},
   "outputs": [
    {
     "name": "stdout",
     "output_type": "stream",
     "text": [
      "+--------------------+-----------+\n",
      "|user_artist_count_id|aritstCount|\n",
      "+--------------------+-----------+\n",
      "|              100010|        252|\n",
      "|              200002|        339|\n",
      "|                 125|          8|\n",
      "|                  51|       1385|\n",
      "|                 124|       2232|\n",
      "+--------------------+-----------+\n",
      "only showing top 5 rows\n",
      "\n"
     ]
    }
   ],
   "source": [
    "#Feature 5: how many singers has the user heard\n",
    "user_artist_count = data_withchurn.filter(data_withchurn.page==\"NextSong\").select(\"userId\", \"artist\").dropDuplicates().groupby(\"userId\").count()\n",
    "user_artist_count = user_artist_count.withColumnRenamed(\"count\", \"aritstCount\")\n",
    "user_artist_count = user_artist_count.withColumnRenamed(\"userId\", \"user_artist_count_id\")\n",
    "user_artist_count.show(5)"
   ]
  },
  {
   "cell_type": "code",
   "execution_count": 33,
   "metadata": {},
   "outputs": [
    {
     "name": "stdout",
     "output_type": "stream",
     "text": [
      "+-------------------------+------------------+-----------------+------------------+\n",
      "|user_session_time_stat_id|    SessionavgTime|   SessionminTime|    SessionmaxTime|\n",
      "+-------------------------+------------------+-----------------+------------------+\n",
      "|                         | 5838.938684264373|              0.0|          84056.45|\n",
      "|                       10|459.74722222222226|91.41666666666667|1547.9166666666667|\n",
      "|                      100| 316.5190476190476|              0.0|1019.5833333333334|\n",
      "|                   100001|148.15833333333333|             63.0|215.28333333333333|\n",
      "|                   100002|201.18333333333334|              0.0| 730.4666666666667|\n",
      "|                   100003| 99.11666666666667|3.216666666666667|195.01666666666668|\n",
      "|                   100004|185.98650793650793|              0.0| 940.2166666666667|\n",
      "|                   100005|120.18666666666668|              0.0|209.21666666666667|\n",
      "|                   100006| 93.43333333333334|93.43333333333334| 93.43333333333334|\n",
      "|                   100007|189.41111111111113|              8.9| 675.6333333333333|\n",
      "+-------------------------+------------------+-----------------+------------------+\n",
      "only showing top 10 rows\n",
      "\n"
     ]
    }
   ],
   "source": [
    "#feature 6 time indicator per user\n",
    "user_session_time = data_withchurn.groupby(\"userId\", \"sessionId\").agg(((max(data_withchurn.ts)-min(data_withchurn.ts))/(1000*60)).alias(\"sessionTime\"))\n",
    "user_session_time_stat = user_session_time.groupby(\"userId\").agg(avg(user_session_time.sessionTime).alias(\"SessionavgTime\"), min(user_session_time.sessionTime).alias(\"SessionminTime\"), max(user_session_time.sessionTime).alias(\"SessionmaxTime\")).sort(\"userId\")\n",
    "user_session_time_stat = user_session_time_stat.withColumnRenamed(\"userId\", \"user_session_time_stat_id\")\n",
    "user_session_time_stat.show(10)"
   ]
  },
  {
   "cell_type": "code",
   "execution_count": 34,
   "metadata": {},
   "outputs": [
    {
     "name": "stdout",
     "output_type": "stream",
     "text": [
      "+-------------------------+------------------+\n",
      "|user_session_songs_avg_id|   avgSessionSongs|\n",
      "+-------------------------+------------------+\n",
      "|                       10|112.16666666666667|\n",
      "|                      100| 78.88235294117646|\n",
      "|                   100001|             33.25|\n",
      "|                   100002|             48.75|\n",
      "|                   100003|              25.5|\n",
      "+-------------------------+------------------+\n",
      "only showing top 5 rows\n",
      "\n"
     ]
    }
   ],
   "source": [
    "#Features 7 get number of the songs for each session\n",
    "user_session_songs_count = data_withchurn.filter(data_withchurn.page==\"NextSong\").groupby(\"userId\", \"sessionId\").count()\n",
    "user_session_songs_avg = user_session_songs_count.groupby(\"userId\").agg(avg(\"count\").alias(\"avgSessionSongs\")).sort(\"userId\")\n",
    "user_session_songs_avg = user_session_songs_avg.withColumnRenamed(\"userId\", \"user_session_songs_avg_id\")\n",
    "user_session_songs_avg.show(5)"
   ]
  },
  {
   "cell_type": "code",
   "execution_count": 35,
   "metadata": {},
   "outputs": [
    {
     "name": "stdout",
     "output_type": "stream",
     "text": [
      "+------+------------------+-----+------+-----+-----------+------------------+------------------+------------------+------------------+\n",
      "|userId|           regDays|level|gender|count|aritstCount|    SessionavgTime|    SessionminTime|    SessionmaxTime|   avgSessionSongs|\n",
      "+------+------------------+-----+------+-----+-----------+------------------+------------------+------------------+------------------+\n",
      "|100010| 55.64365740740741|    0|     1|  270|        252|154.48333333333332|             22.55|             323.0|39.285714285714285|\n",
      "|200002| 70.07462962962963|    1|     0|  379|        339|266.40000000000003|              12.1|            497.45|              64.5|\n",
      "|   125| 71.31688657407408|    0|     0|    9|          8|29.566666666666666|29.566666666666666|29.566666666666666|               8.0|\n",
      "|   124|131.55591435185184|    1|     1| 3340|       2232| 578.9942528735633|               0.0|1770.6166666666666|145.67857142857142|\n",
      "|    51|19.455844907407407|    1|     0| 1855|       1385| 872.3566666666666| 67.06666666666666| 2069.383333333333|             211.1|\n",
      "+------+------------------+-----+------+-----+-----------+------------------+------------------+------------------+------------------+\n",
      "only showing top 5 rows\n",
      "\n"
     ]
    }
   ],
   "source": [
    "#Combine all the features to user_data dataframe\n",
    "user_data = user_reg_days.join(user_level,user_reg_days.userId == user_level.user_level_id).drop(\"user_level_id\")\n",
    "user_data = user_data.join(user_gender,user_data.userId == user_gender.user_gender_id).drop(\"user_gender_id\")\n",
    "user_data = user_data.join(user_song_interact,user_data.userId == user_song_interact.user_song_interact_id).drop(\"user_song_interact_id\")\n",
    "user_data = user_data.join(user_artist_count,user_data.userId == user_artist_count.user_artist_count_id).drop(\"user_artist_count_id\")\n",
    "user_data = user_data.join(user_session_time_stat,user_data.userId == user_session_time_stat.user_session_time_stat_id).drop(\"user_session_time_stat_id\")\n",
    "user_data = user_data.join(user_session_songs_avg,user_data.userId == user_session_songs_avg.user_session_songs_avg_id).drop(\"user_session_songs_avg_id\")\n",
    "\n",
    "user_data.show(5)\n"
   ]
  },
  {
   "cell_type": "code",
   "execution_count": 36,
   "metadata": {},
   "outputs": [
    {
     "name": "stdout",
     "output_type": "stream",
     "text": [
      "+-------------+-----+\n",
      "|user_label_id|churn|\n",
      "+-------------+-----+\n",
      "|           19|    0|\n",
      "|       100005|    1|\n",
      "|       200007|    0|\n",
      "|       300007|    1|\n",
      "|           50|    0|\n",
      "+-------------+-----+\n",
      "only showing top 5 rows\n",
      "\n"
     ]
    }
   ],
   "source": [
    "#get user's lable data\n",
    "user_label = data_withchurn.select(\"userId\", \"churn\").dropDuplicates()\n",
    "user_label = user_label.select(\"userId\", user_label.churn.cast(\"int\"))\n",
    "user_label = user_label.withColumnRenamed(\"userId\", \"user_label_id\")\n",
    "user_label.show(5)"
   ]
  },
  {
   "cell_type": "code",
   "execution_count": 37,
   "metadata": {},
   "outputs": [],
   "source": [
    "#Combine Features and Labels Together\n",
    "user_data_final = user_data.join(user_label,user_data.userId == user_label.user_label_id).drop(\"user_label_id\")"
   ]
  },
  {
   "cell_type": "code",
   "execution_count": 38,
   "metadata": {},
   "outputs": [
    {
     "name": "stdout",
     "output_type": "stream",
     "text": [
      "+------+------------------+-----+------+-----+-----------+------------------+------------------+------------------+------------------+-----+\n",
      "|userId|           regDays|level|gender|count|aritstCount|    SessionavgTime|    SessionminTime|    SessionmaxTime|   avgSessionSongs|churn|\n",
      "+------+------------------+-----+------+-----+-----------+------------------+------------------+------------------+------------------+-----+\n",
      "|100010| 55.64365740740741|    0|     1|  270|        252|154.48333333333332|             22.55|             323.0|39.285714285714285|    0|\n",
      "|200002| 70.07462962962963|    1|     0|  379|        339|266.40000000000003|              12.1|            497.45|              64.5|    0|\n",
      "|   125| 71.31688657407408|    0|     0|    9|          8|29.566666666666666|29.566666666666666|29.566666666666666|               8.0|    1|\n",
      "|   124|131.55591435185184|    1|     1| 3340|       2232| 578.9942528735633|               0.0|1770.6166666666666|145.67857142857142|    0|\n",
      "|    51|19.455844907407407|    1|     0| 1855|       1385| 872.3566666666666| 67.06666666666666| 2069.383333333333|             211.1|    1|\n",
      "+------+------------------+-----+------+-----+-----------+------------------+------------------+------------------+------------------+-----+\n",
      "only showing top 5 rows\n",
      "\n"
     ]
    }
   ],
   "source": [
    "#Show final data\n",
    "user_data_final.show(5)"
   ]
  },
  {
   "cell_type": "code",
   "execution_count": 39,
   "metadata": {},
   "outputs": [],
   "source": [
    "#Save the data into CSV File\n",
    "path = \"user_data_final.csv\"\n",
    "user_data_final.toPandas().to_csv(path)"
   ]
  },
  {
   "cell_type": "markdown",
   "metadata": {},
   "source": [
    "# 建模\n",
    "将完整数据集分成训练集、测试集和验证集。测试几种你学过的机器学习方法。评价不同机器学习方法的准确率，根据情况调节参数。根据准确率你挑选出表现最好的那个模型，然后报告在训练集上的结果。因为流失顾客数据集很小，我建议选用 F1 score 作为优化指标。"
   ]
  },
  {
   "cell_type": "code",
   "execution_count": 40,
   "metadata": {},
   "outputs": [
    {
     "data": {
      "text/plain": [
       "DataFrame[_c0: string, userId: string, regDays: string, level: string, gender: string, count: string, aritstCount: string, SessionavgTime: string, SessionminTime: string, SessionmaxTime: string, avgSessionSongs: string, churn: string]"
      ]
     },
     "execution_count": 40,
     "metadata": {},
     "output_type": "execute_result"
    }
   ],
   "source": [
    "user_data_final = spark.read.csv(path, header=True)\n",
    "user_data_final.persist()"
   ]
  },
  {
   "cell_type": "code",
   "execution_count": 41,
   "metadata": {},
   "outputs": [],
   "source": [
    "#Transfer all the features to numeric\n",
    "for col in user_data_final.columns[1:]:\n",
    "    col_name = col + \"Num\"\n",
    "    user_data_final = user_data_final.withColumn(col_name, user_data_final[col].cast(\"float\"))\n",
    "    user_data_final = user_data_final.drop(col)\n",
    "\n"
   ]
  },
  {
   "cell_type": "code",
   "execution_count": 42,
   "metadata": {},
   "outputs": [
    {
     "name": "stdout",
     "output_type": "stream",
     "text": [
      "+---+---------+----------+--------+---------+--------+--------------+-----------------+-----------------+-----------------+------------------+--------+\n",
      "|_c0|userIdNum|regDaysNum|levelNum|genderNum|countNum|aritstCountNum|SessionavgTimeNum|SessionminTimeNum|SessionmaxTimeNum|avgSessionSongsNum|churnNum|\n",
      "+---+---------+----------+--------+---------+--------+--------------+-----------------+-----------------+-----------------+------------------+--------+\n",
      "|  0| 100010.0| 55.643658|     0.0|      1.0|   270.0|         252.0|        154.48334|            22.55|            323.0|         39.285713|     0.0|\n",
      "|  1| 200002.0|  70.07463|     1.0|      0.0|   379.0|         339.0|            266.4|             12.1|           497.45|              64.5|     0.0|\n",
      "|  2|    125.0|  71.31689|     0.0|      0.0|     9.0|           8.0|        29.566668|        29.566668|        29.566668|               8.0|     1.0|\n",
      "|  3|    124.0| 131.55591|     1.0|      1.0|  3340.0|        2232.0|        578.99426|              0.0|        1770.6167|         145.67857|     0.0|\n",
      "|  4|     51.0| 19.455845|     1.0|      0.0|  1855.0|        1385.0|         872.3567|        67.066666|        2069.3833|             211.1|     1.0|\n",
      "+---+---------+----------+--------+---------+--------+--------------+-----------------+-----------------+-----------------+------------------+--------+\n",
      "only showing top 5 rows\n",
      "\n"
     ]
    }
   ],
   "source": [
    "user_data_final.show(5)"
   ]
  },
  {
   "cell_type": "code",
   "execution_count": 45,
   "metadata": {},
   "outputs": [
    {
     "name": "stdout",
     "output_type": "stream",
     "text": [
      "225\n"
     ]
    }
   ],
   "source": [
    "t = user_data_final.count()\n",
    "print(t)"
   ]
  },
  {
   "cell_type": "code",
   "execution_count": 46,
   "metadata": {},
   "outputs": [],
   "source": [
    "# put the features into vector\n",
    "assembler = VectorAssembler(inputCols=user_data_final.columns[1:-1], outputCol=\"NumFeatures\")\n",
    "data = assembler.transform(user_data_final)\n",
    "\n",
    "scaler = StandardScaler(inputCol=\"NumFeatures\", outputCol=\"ScaledNumFeatures\", withStd=True)\n",
    "scalerModel = scaler.fit(data)\n",
    "data = scalerModel.transform(data)\n",
    "\n",
    "data = data.select(data.churnNum.alias(\"label\"), data.ScaledNumFeatures.alias(\"features\"))\n",
    "\n",
    "#Split the data into train set and validation set\n",
    "train, validation = data.randomSplit([0.8, 0.2], seed=42)\n",
    "train = train.cache()"
   ]
  },
  {
   "cell_type": "code",
   "execution_count": 48,
   "metadata": {},
   "outputs": [],
   "source": [
    "#using LR model\n",
    "lr =  LogisticRegression()\n",
    "paramGrid = ParamGridBuilder() \\\n",
    "    .addGrid(lr.elasticNetParam,[0.0, 0.1, 0.5, 1.0]) \\\n",
    "    .addGrid(lr.regParam,[0.0, 0.05, 0.1]) \\\n",
    "    .build()\n",
    "\n",
    "crossval = CrossValidator(estimator=lr,\n",
    "                          estimatorParamMaps=paramGrid,\n",
    "                          evaluator=MulticlassClassificationEvaluator(),\n",
    "                          numFolds=3)"
   ]
  },
  {
   "cell_type": "code",
   "execution_count": 49,
   "metadata": {},
   "outputs": [
    {
     "data": {
      "text/plain": [
       "[0.7385121894409736,\n",
       " 0.7083480420436586,\n",
       " 0.6990333787359971,\n",
       " 0.7385121894409736,\n",
       " 0.7113078833414272,\n",
       " 0.6990333787359971,\n",
       " 0.7385121894409736,\n",
       " 0.6990333787359971,\n",
       " 0.6791973265715276,\n",
       " 0.7385121894409736,\n",
       " 0.6767639014108298,\n",
       " 0.6791973265715276]"
      ]
     },
     "execution_count": 49,
     "metadata": {},
     "output_type": "execute_result"
    }
   ],
   "source": [
    "#Train the model\n",
    "Model_lr = crossval.fit(train)\n",
    "Model_lr.avgMetrics"
   ]
  },
  {
   "cell_type": "code",
   "execution_count": 51,
   "metadata": {},
   "outputs": [],
   "source": [
    "#user gbt model\n",
    "gbt  = GBTClassifier()\n",
    "\n",
    "paramGrid = ParamGridBuilder() \\\n",
    "    .addGrid(gbt.maxIter,[3, 10, 20]) \\\n",
    "    .addGrid(gbt.maxDepth,[2, 4, 6, 8]) \\\n",
    "    .build()\n",
    "\n",
    "crossval_gbt = CrossValidator(estimator=gbt,\n",
    "                          estimatorParamMaps=paramGrid,\n",
    "                          evaluator=MulticlassClassificationEvaluator(),\n",
    "                          numFolds=3)\n"
   ]
  },
  {
   "cell_type": "code",
   "execution_count": 52,
   "metadata": {},
   "outputs": [
    {
     "data": {
      "text/plain": [
       "[0.7893814955939045,\n",
       " 0.731928853564967,\n",
       " 0.6961925606283896,\n",
       " 0.703681211578949,\n",
       " 0.7798820703649191,\n",
       " 0.7271958935412806,\n",
       " 0.6961925606283896,\n",
       " 0.703681211578949,\n",
       " 0.7837826836405324,\n",
       " 0.7196501278151243,\n",
       " 0.6930091005445191,\n",
       " 0.6967975087354431]"
      ]
     },
     "execution_count": 52,
     "metadata": {},
     "output_type": "execute_result"
    }
   ],
   "source": [
    "#Train the model\n",
    "Model_gbt = crossval_gbt.fit(train)\n",
    "Model_gbt.avgMetrics"
   ]
  },
  {
   "cell_type": "code",
   "execution_count": 54,
   "metadata": {},
   "outputs": [],
   "source": [
    "#Use Decision Tree Model\n",
    "dt = DecisionTreeClassifier()\n",
    "paramGrid = ParamGridBuilder() \\\n",
    "    .addGrid(dt.impurity,['entropy', 'gini']) \\\n",
    "    .addGrid(dt.maxDepth,[2, 3, 4, 5, 6, 7, 8]) \\\n",
    "    .build()\n",
    "\n",
    "crossval_dt = CrossValidator(estimator=dt,\n",
    "                          estimatorParamMaps=paramGrid,\n",
    "                          evaluator=MulticlassClassificationEvaluator(),\n",
    "                          numFolds=3)"
   ]
  },
  {
   "cell_type": "code",
   "execution_count": 55,
   "metadata": {},
   "outputs": [
    {
     "data": {
      "text/plain": [
       "[0.778510797664383,\n",
       " 0.7661508602194741,\n",
       " 0.7449597559273801,\n",
       " 0.7221001744814494,\n",
       " 0.7118411316078894,\n",
       " 0.6879222577794387,\n",
       " 0.6932731763522308,\n",
       " 0.7893814955939045,\n",
       " 0.758766498154155,\n",
       " 0.7369243849162306,\n",
       " 0.7030445412376388,\n",
       " 0.7015413493811862,\n",
       " 0.6967975087354431,\n",
       " 0.703681211578949]"
      ]
     },
     "execution_count": 55,
     "metadata": {},
     "output_type": "execute_result"
    }
   ],
   "source": [
    "#Train the model\n",
    "Model_dt = crossval_dt.fit(train)\n",
    "Model_dt.avgMetrics\n"
   ]
  },
  {
   "cell_type": "code",
   "execution_count": 56,
   "metadata": {},
   "outputs": [],
   "source": [
    "#define a fucntion to calculate F1 Score\n",
    "def getF1(Model,validation):\n",
    "    prediction = Model.transform(validation)\n",
    "    r = prediction.filter(\"label = 1 and prediction = 1\").count()\n",
    "    e = prediction.filter(\"label = 0 and prediction = 1\").count()\n",
    "    p = prediction.filter(\"label = 1 and prediction = 0\").count()\n",
    "    precision = r / (r + e) \n",
    "    recall = r / (r + p)\n",
    "    f1 = 2*precision*recall / (precision+recall)\n",
    "    result = []\n",
    "    result.append(precision)\n",
    "    result.append(recall)\n",
    "    result.append(f1)\n",
    "    return result"
   ]
  },
  {
   "cell_type": "code",
   "execution_count": 60,
   "metadata": {},
   "outputs": [
    {
     "name": "stdout",
     "output_type": "stream",
     "text": [
      "precision is 1.0\n",
      "recall is 0.1111111111111111\n",
      "F1 Score is 0.19999999999999998\n"
     ]
    }
   ],
   "source": [
    "#test the reulst for LR model\n",
    "result=[]\n",
    "result = getF1(Model_lr,validation)\n",
    "print(\"precision is {}\".format(result[0]))\n",
    "print(\"recall is {}\".format(result[1]))\n",
    "print(\"F1 Score is {}\".format(result[2]))"
   ]
  },
  {
   "cell_type": "code",
   "execution_count": 61,
   "metadata": {},
   "outputs": [
    {
     "name": "stdout",
     "output_type": "stream",
     "text": [
      "precision is 0.5714285714285714\n",
      "recall is 0.4444444444444444\n",
      "F1 Score is 0.5\n"
     ]
    }
   ],
   "source": [
    "#test the reulst for gbt model\n",
    "result=[]\n",
    "result = getF1(Model_gbt,validation)\n",
    "print(\"precision is {}\".format(result[0]))\n",
    "print(\"recall is {}\".format(result[1]))\n",
    "print(\"F1 Score is {}\".format(result[2]))"
   ]
  },
  {
   "cell_type": "code",
   "execution_count": 62,
   "metadata": {},
   "outputs": [
    {
     "name": "stdout",
     "output_type": "stream",
     "text": [
      "precision is 0.5714285714285714\n",
      "recall is 0.4444444444444444\n",
      "F1 Score is 0.5\n"
     ]
    }
   ],
   "source": [
    "#test the reulst for dt model\n",
    "result=[]\n",
    "result = getF1(Model_dt,validation)\n",
    "print(\"precision is {}\".format(result[0]))\n",
    "print(\"recall is {}\".format(result[1]))\n",
    "print(\"F1 Score is {}\".format(result[2]))"
   ]
  },
  {
   "cell_type": "markdown",
   "metadata": {},
   "source": [
    "\n",
    "# 最后一步\n",
    "清理你的代码，添加注释和重命名变量，使得代码更易读和易于维护。参考 Spark 项目概述页面和数据科学家毕业项目审阅要求，确保你的项目包含了毕业项目要求的所有内容，并且满足所有审阅要求。记得在 GitHub 代码库里包含一份全面的文档——README文件，以及一个网络应用程序或博客文章。"
   ]
  },
  {
   "cell_type": "code",
   "execution_count": null,
   "metadata": {},
   "outputs": [],
   "source": []
  },
  {
   "cell_type": "code",
   "execution_count": null,
   "metadata": {},
   "outputs": [],
   "source": []
  }
 ],
 "metadata": {
  "kernelspec": {
   "display_name": "Python 3",
   "language": "python",
   "name": "python3"
  },
  "language_info": {
   "codemirror_mode": {
    "name": "ipython",
    "version": 3
   },
   "file_extension": ".py",
   "mimetype": "text/x-python",
   "name": "python",
   "nbconvert_exporter": "python",
   "pygments_lexer": "ipython3",
   "version": "3.7.6"
  },
  "toc": {
   "base_numbering": 1,
   "nav_menu": {},
   "number_sections": true,
   "sideBar": true,
   "skip_h1_title": false,
   "title_cell": "Table of Contents",
   "title_sidebar": "Contents",
   "toc_cell": false,
   "toc_position": {},
   "toc_section_display": true,
   "toc_window_display": true
  },
  "toc-autonumbering": true,
  "toc-showcode": false,
  "toc-showmarkdowntxt": false,
  "toc-showtags": false,
  "varInspector": {
   "cols": {
    "lenName": 16,
    "lenType": 16,
    "lenVar": 40
   },
   "kernels_config": {
    "python": {
     "delete_cmd_postfix": "",
     "delete_cmd_prefix": "del ",
     "library": "var_list.py",
     "varRefreshCmd": "print(var_dic_list())"
    },
    "r": {
     "delete_cmd_postfix": ") ",
     "delete_cmd_prefix": "rm(",
     "library": "var_list.r",
     "varRefreshCmd": "cat(var_dic_list()) "
    }
   },
   "types_to_exclude": [
    "module",
    "function",
    "builtin_function_or_method",
    "instance",
    "_Feature"
   ],
   "window_display": false
  },
  "widgets": {
   "application/vnd.jupyter.widget-state+json": {
    "state": {},
    "version_major": 2,
    "version_minor": 0
   }
  }
 },
 "nbformat": 4,
 "nbformat_minor": 4
}
